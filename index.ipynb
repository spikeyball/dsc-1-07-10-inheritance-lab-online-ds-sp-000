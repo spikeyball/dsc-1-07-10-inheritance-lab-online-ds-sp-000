{
 "cells": [
  {
   "cell_type": "markdown",
   "metadata": {},
   "source": [
    "# Inheritance - Lab\n",
    "\n",
    "## Introduction\n",
    "\n",
    "In this lab, we'll use what we've learned about inheritance to model a zoo using superclasses, subclasses, and maybe even an abstract superclass!\n",
    "\n",
    "## Objectives\n",
    "\n",
    "You will be able to:\n",
    "\n",
    "* Use inheritance to to write D.R.Y. code\n",
    "* Understand the relationship between subclasses and superclasses\n",
    "* Create Object-Oriented data models that describe the real world with classes and subclasses\n",
    "\n",
    "## Modeling a Zoo\n",
    "\n",
    "Consider the following scenario:  You've been hired by a zookeeper to build a program that keeps track of all the animals in the zoo.  This is a great opportunity to make use of Inheritance and Object-Oriented Programming!\n",
    "\n",
    "## Creating an Abstract Superclass\n",
    "\n",
    "Start by creating an abstract superclass, `Animal`.  When our program is complete, all subclasses of `Animal` will have the following attributes:\n",
    "\n",
    "* `name`, which is a string set at instantation time\n",
    "* `size`, which can be `'small'`, `'medium'`, `'large'`, or `'enormous'`.\n",
    "* `weight`, which is an integer set at integer set at instantiation time.\n",
    "* `species`, a string that tells us the species of the animal\n",
    "* `food_type`, which can be `'herbivore'`, `'carnivore'`, or `'omnivore'`\n",
    "* `nocturnal`, a boolean value that is `True` if the animal sleeps during the day, otherwise `False`\n",
    "\n",
    "They'll also have the following behaviors:\n",
    "\n",
    "* `sleep`, which prints a string saying if the animal sleeps during day or night\n",
    "* `eat`, which takes in the string `plants` or `meat`, and returns `'{animal name} the {animal species} thinks {food} is yummy!'` or `'I don't eat this!'` based on the animal's `food_type` attribute. \n",
    "\n",
    "In the cell below, create an abstract superclass that meets these specifications.\n",
    "\n",
    "**_NOTE:_** For some attributes in an abstract superclass such as `size`, the initial value doesn't matter--just make sure that you remember to override it in each of the subclasses!"
   ]
  },
  {
   "cell_type": "code",
   "execution_count": 44,
   "metadata": {},
   "outputs": [],
   "source": [
    "class Animal():\n",
    "    \n",
    "    def __init__(self, name, weight):\n",
    "        self.name = name\n",
    "        self.size = 0\n",
    "        self.weight = weight\n",
    "        self.species = None\n",
    "        self.food_type = None\n",
    "        self.nocturnal = None\n",
    "        \n",
    "    def sleep(self):\n",
    "        if self.nocturnal == False:\n",
    "            return 'This animal sleeps at night'\n",
    "        else:\n",
    "            return 'This animal sleeps during the day'\n",
    "        \n",
    "    def eats(self, eats_this):\n",
    "        if eats_this.lower() == 'meat' and (self.food_type == 'carnivore' or self.food_type == 'omnivore'):\n",
    "            return f'{self.name} the {self.species} thinks {eats_this} is yummy!'\n",
    "        elif eats_this.lower() == 'plants' and (self.food_type == 'herbivore' or self.food_type == 'omnivore'):\n",
    "            return f'{self.name} the {self.species} thinks {eats_this} is yummy!'\n",
    "        else:\n",
    "            return 'I don\\'t eat this!'"
   ]
  },
  {
   "cell_type": "markdown",
   "metadata": {},
   "source": [
    "Great! Now that we have our Abstract Superclass, we can begin building out the specific animal classes.\n",
    "\n",
    "In the cell below, complete the `Elephant` class.  This class should:\n",
    "\n",
    "* Subclass `Animal`\n",
    "* Have a species of `'elephant'`\n",
    "* Have a size of `'enormous'`\n",
    "* Have a food type of `'herbivore'`\n",
    "* Set nocturnal to `False`\n",
    "\n",
    "**_Hint:_** Remember to make use of the `super()` object during initialization, and be sure to pass in the values it expects at instantiation time!"
   ]
  },
  {
   "cell_type": "code",
   "execution_count": 45,
   "metadata": {},
   "outputs": [],
   "source": [
    "class Elephant(Animal):\n",
    "    \n",
    "    def __init__(self, name, weight):\n",
    "        super().__init__(name, weight)\n",
    "        self.name = name\n",
    "        self.weight = weight\n",
    "        self.species = 'elephant'\n",
    "        self.size = 'enormous'\n",
    "        self.food_type = 'herbivore'\n",
    "        self.nocturnal = False\n",
    "        "
   ]
  },
  {
   "cell_type": "markdown",
   "metadata": {},
   "source": [
    "Great! Now, in the cell below, create a `Tiger` class.  This class should:\n",
    "\n",
    "* Subclass `Animal`\n",
    "* Have a species of `'tiger'`\n",
    "* Have a size of `'large'`\n",
    "* Have a food type of `'carnivore'`\n",
    "* Set nocturnal to `True`"
   ]
  },
  {
   "cell_type": "code",
   "execution_count": 46,
   "metadata": {},
   "outputs": [],
   "source": [
    "class Tiger(Animal):\n",
    "    \n",
    "    def __init__(self, name, weight):\n",
    "        super().__init__(name, weight)\n",
    "        self.name = name\n",
    "        self.weight = weight\n",
    "        self.species = 'tiger'\n",
    "        self.size = 'large'\n",
    "        self.food_type = 'carnivore'\n",
    "        self.nocturnal = True"
   ]
  },
  {
   "cell_type": "markdown",
   "metadata": {},
   "source": [
    "Great! 2 More classes to go. In the cell below, create a `Raccoon` class.  This class should:\n",
    "\n",
    "* Subclass `Animal`\n",
    "* Have a species of `raccoon`\n",
    "* Have a size of `'small'`\n",
    "* Have a food type of `'omnivore'`\n",
    "* Set nocturnal to `True`"
   ]
  },
  {
   "cell_type": "code",
   "execution_count": 47,
   "metadata": {},
   "outputs": [],
   "source": [
    "class Raccoon(Animal):\n",
    "    \n",
    "    def __init__(self, name, weight):\n",
    "        super().__init__(name, weight)\n",
    "        self.name = name\n",
    "        self.weight = weight\n",
    "        self.species = 'raccoon'\n",
    "        self.size = 'small'\n",
    "        self.food_type = 'omnivore'\n",
    "        self.nocturnal = True"
   ]
  },
  {
   "cell_type": "markdown",
   "metadata": {},
   "source": [
    "Finally, let's create a `Gorilla` class.  This class should:\n",
    "\n",
    "* Subclass `Animal`\n",
    "* Have a species of `gorilla`\n",
    "* Have a size of `'Large'`\n",
    "* Have a food type of `'herbivore'`\n",
    "* Set nocturnal to `False`"
   ]
  },
  {
   "cell_type": "code",
   "execution_count": 48,
   "metadata": {},
   "outputs": [],
   "source": [
    "class Gorilla(Animal):\n",
    "    \n",
    "    def __init__(self, name, weight):\n",
    "        super().__init__(name, weight)\n",
    "        self.name = name\n",
    "        self.weight = weight\n",
    "        self.species = 'gorilla'\n",
    "        self.size = 'large'\n",
    "        self.food_type = 'herbivore'\n",
    "        self.nocturnal = False"
   ]
  },
  {
   "cell_type": "markdown",
   "metadata": {},
   "source": [
    "## Using Our Objects\n",
    "\n",
    "Now that we've created classes to model each of the animals in the zoo, we'll write a function that helps us keep track of when to feed different animals.  But, before we can do that, we need to populate our zoo!\n",
    "\n",
    "In the cell below, create an array called `zoo`.  Then, complete the `add_animal_to_zoo` function. \n",
    "\n",
    "This function should take in the following parameters:\n",
    "\n",
    "* `zoo`, an array representing the current state of the zoo\n",
    "* `animal_type`, a string.  Can be `'Gorilla'`, `'Raccoon'`, `'Tiger'`, or `'Elephant'`.\n",
    "* `name`, the name of the animal being created\n",
    "* `weight`, the weight of the animal being created\n",
    "\n",
    "The function should then:\n",
    "\n",
    "* use `animal_type` to determine which object to create\n",
    "* Create an instance of that animal, passing in the `name` and `weight`\n",
    "* Append the newly created animal to `zoo`\n",
    "* Return `zoo`"
   ]
  },
  {
   "cell_type": "code",
   "execution_count": 49,
   "metadata": {},
   "outputs": [],
   "source": [
    "def add_animal_to_zoo(zoo, animal_type, name, weight):\n",
    "    if animal_type == 'Gorilla':\n",
    "        gorilla = Gorilla(name, weight)\n",
    "        zoo.append(gorilla)\n",
    "        return zoo\n",
    "    elif animal_type == 'Raccoon':\n",
    "        raccoon = Raccoon(name, weight)\n",
    "        zoo.append(raccoon)\n",
    "        return zoo\n",
    "    elif animal_type == 'Tiger':\n",
    "        tiger = Tiger(name, weight)\n",
    "        zoo.append(tiger)\n",
    "        return zoo\n",
    "    elif animal_type == 'Elephant':\n",
    "        elephant = Elephant(name, weight)\n",
    "        zoo.append(elephant)\n",
    "    else:\n",
    "        print('We do not have those animals here!')\n",
    "        "
   ]
  },
  {
   "cell_type": "markdown",
   "metadata": {},
   "source": [
    "Great! Now, let's add some animals to our zoo. \n",
    "\n",
    "Create the following animals and add them to our zoo.  The names and weights are up to you.\n",
    "\n",
    "* 2 Elephants\n",
    "* 2 Raccons\n",
    "* 1 Gorilla\n",
    "* 3 Tigers"
   ]
  },
  {
   "cell_type": "code",
   "execution_count": 50,
   "metadata": {},
   "outputs": [
    {
     "name": "stdout",
     "output_type": "stream",
     "text": [
      "[<__main__.Elephant object at 0x10a2a4390>, <__main__.Elephant object at 0x10a2a4208>, <__main__.Raccoon object at 0x10a2c5048>, <__main__.Raccoon object at 0x10a2c5080>, <__main__.Gorilla object at 0x10a2c50b8>, <__main__.Tiger object at 0x10a2c54e0>, <__main__.Tiger object at 0x10a2c54a8>, <__main__.Tiger object at 0x10a2c5518>]\n"
     ]
    }
   ],
   "source": [
    "# Create your animals and add them to the 'zoo' in this cell!\n",
    "zoo = []\n",
    "\n",
    "add_animal_to_zoo(zoo, 'Elephant', 'Mary', 500)\n",
    "add_animal_to_zoo(zoo, 'Elephant', 'Mark', 800)\n",
    "add_animal_to_zoo(zoo, 'Raccoon', 'Jason', 50)\n",
    "add_animal_to_zoo(zoo, 'Raccoon', 'Doug', 80)\n",
    "add_animal_to_zoo(zoo, 'Gorilla', 'Beast', 1500)\n",
    "add_animal_to_zoo(zoo, 'Tiger', 'Tony', 300)\n",
    "add_animal_to_zoo(zoo, 'Tiger', 'Sally', 250)\n",
    "add_animal_to_zoo(zoo, 'Tiger', 'Amos', 450)\n",
    "\n",
    "print(zoo)"
   ]
  },
  {
   "cell_type": "markdown",
   "metadata": {},
   "source": [
    "Great! Now that we have a populated zoo, we can do what the zookeeper hired us to do--write a program that feeds the correct animals the right food at the right times!\n",
    "\n",
    "To do this, we'll write a function called `feed_animals`.  This function should take in two arguments:\n",
    "\n",
    "* `zoo`, the zoo array containing all the animals\n",
    "* `time`, which can be `'Day'` or `'Night'`.  This should default to day if nothing is entered for `time`.\n",
    "\n",
    "This function should:\n",
    "\n",
    "* Feed only the non-nocturnal animals if `time='Day'`, or only the nocturnal animals if `time='Night'`\n",
    "* Check the food type of each animal before feeding.  If the animal is a carnivore, feed it `meat`; otherwise, feed it `plants`. Feed the animals by using their `.eat()` method."
   ]
  },
  {
   "cell_type": "code",
   "execution_count": 61,
   "metadata": {},
   "outputs": [
    {
     "name": "stdout",
     "output_type": "stream",
     "text": [
      "Jason the raccoon thinks meat is yummy!\n",
      "Doug the raccoon thinks meat is yummy!\n",
      "Tony the tiger thinks meat is yummy!\n",
      "Sally the tiger thinks meat is yummy!\n",
      "Amos the tiger thinks meat is yummy!\n"
     ]
    }
   ],
   "source": [
    "def feed_animals(zoo, time='Day'):\n",
    "    for item in zoo:\n",
    "        if item.nocturnal == True and time == 'Day' and (item.food_type == 'carnivore' or item.food_type == 'omnivore'):\n",
    "            print(item.eats('meat'))\n",
    "        elif item.nocturnal == True and time == 'Day' and (item.food_type == 'herbivore'):\n",
    "            print(item.eats('plants'))\n",
    "        if item.nocturnal == False and time == 'Night' and (item.food_type == 'carnivore' or item.food_type == 'omnivore'):\n",
    "            print(item.eats('meat'))\n",
    "        elif item.nocturnal == False and time == 'Night' and (item.food_type == 'herbivore'):\n",
    "            print(item.eats('plants'))\n",
    "        \n",
    "feed_animals(zoo)"
   ]
  },
  {
   "cell_type": "markdown",
   "metadata": {},
   "source": [
    "Now, let's test out our program.  Call the function for a daytime feeding below."
   ]
  },
  {
   "cell_type": "code",
   "execution_count": 63,
   "metadata": {},
   "outputs": [
    {
     "name": "stdout",
     "output_type": "stream",
     "text": [
      "Jason the raccoon thinks meat is yummy!\n",
      "Doug the raccoon thinks meat is yummy!\n",
      "Tony the tiger thinks meat is yummy!\n",
      "Sally the tiger thinks meat is yummy!\n",
      "Amos the tiger thinks meat is yummy!\n"
     ]
    }
   ],
   "source": [
    "feed_animals(zoo, \"Day\")"
   ]
  },
  {
   "cell_type": "markdown",
   "metadata": {},
   "source": [
    "That looks correct--the two species that we have that aren't nocturnal are elephants and gorillas.  \n",
    "\n",
    "In the cell below, call `feed_animals` again, but this time set `time='Night'`"
   ]
  },
  {
   "cell_type": "code",
   "execution_count": 64,
   "metadata": {},
   "outputs": [
    {
     "name": "stdout",
     "output_type": "stream",
     "text": [
      "Mary the elephant thinks plants is yummy!\n",
      "Mark the elephant thinks plants is yummy!\n",
      "Beast the gorilla thinks plants is yummy!\n"
     ]
    }
   ],
   "source": [
    "feed_animals(zoo, \"Night\")"
   ]
  },
  {
   "cell_type": "markdown",
   "metadata": {},
   "source": [
    "Thats it! You've used OOP and inheritance to build a working function to help the zookeeper feed his animals the right food at the correct times!\n",
    "\n",
    "## Summary\n",
    "\n",
    "In this lab, you learned how to:\n",
    "\n",
    "* Use inheritance to to write D.R.Y. code\n",
    "* Understand the relationship between subclasses and superclasses\n",
    "* Create Object-Oriented data models that describe the real world with classes and subclasses"
   ]
  },
  {
   "cell_type": "code",
   "execution_count": 65,
   "metadata": {},
   "outputs": [],
   "source": [
    "# Finished January 15, 2019"
   ]
  },
  {
   "cell_type": "code",
   "execution_count": null,
   "metadata": {},
   "outputs": [],
   "source": []
  }
 ],
 "metadata": {
  "kernelspec": {
   "display_name": "Python 3",
   "language": "python",
   "name": "python3"
  },
  "language_info": {
   "codemirror_mode": {
    "name": "ipython",
    "version": 3
   },
   "file_extension": ".py",
   "mimetype": "text/x-python",
   "name": "python",
   "nbconvert_exporter": "python",
   "pygments_lexer": "ipython3",
   "version": "3.6.6"
  }
 },
 "nbformat": 4,
 "nbformat_minor": 2
}
